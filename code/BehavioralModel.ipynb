{
 "cells": [
  {
   "cell_type": "code",
   "execution_count": 1,
   "metadata": {
    "collapsed": true
   },
   "outputs": [],
   "source": [
    "%matplotlib inline\n",
    "\n",
    "import numpy as np\n",
    "import matplotlib.pyplot as plt\n",
    "import os\n",
    "from scipy.io import loadmat\n",
    "from sklearn.model_selection import train_test_split, cross_val_predict, cross_validate\n",
    "from sklearn.linear_model import LogisticRegression, LogisticRegressionCV\n",
    "from sklearn.metrics import log_loss\n",
    "#import seaborn as sns\n",
    "from model_behavior import *"
   ]
  },
  {
   "cell_type": "markdown",
   "metadata": {},
   "source": [
    "### Step 1: Load behavioral data"
   ]
  },
  {
   "cell_type": "code",
   "execution_count": 2,
   "metadata": {
    "collapsed": true
   },
   "outputs": [],
   "source": [
    "# 1. Load behavioral data\n",
    "subj = 's097'\n",
    "wd = '/home/users/akshayj/texOdd'\n",
    "bd = load_behavioral_data('{}/data/{}_behavior.mat'.format(wd, subj))"
   ]
  },
  {
   "cell_type": "markdown",
   "metadata": {},
   "source": [
    "### Step 2: Compute feature distance"
   ]
  },
  {
   "cell_type": "code",
   "execution_count": null,
   "metadata": {
    "scrolled": true
   },
   "outputs": [
    {
     "name": "stdout",
     "output_type": "stream",
     "text": [
      "Loading precomputed feature distances\n",
      "1x1_conv1_1 already computed; skipping...\n",
      "--- 1x1_pool1 ---\n",
      "0 0.0004918613883962419\n",
      "1000 0.0006158050920480052\n",
      "2000 0.0011488513969380998\n",
      "3000 0.008849738925629902\n",
      "4000 6.446266737630824e-05\n",
      "5000 0.00015933406627394175\n",
      "6000 0.0014314521964080562\n",
      "Saving to /home/users/akshayj/texOdd/data/s097_feature_dist.npy\n",
      "--- 1x1_pool2 ---\n",
      "0 0.0047042776345818105\n",
      "1000 0.020434078704760494\n",
      "2000 0.023660290803356243\n",
      "3000 0.025296117425636755\n",
      "4000 0.0003611840417493961\n",
      "5000 0.01832682029289273\n",
      "6000 0.012464111935114652\n",
      "Saving to /home/users/akshayj/texOdd/data/s097_feature_dist.npy\n",
      "--- 1x1_pool4 ---\n",
      "0 0.08310894295683591\n",
      "1000 0.24280437286666823\n",
      "2000 0.2748201809192482\n",
      "3000 0.12535373043574383\n",
      "4000 0.05655416031109334\n",
      "5000 0.18322214888690141\n",
      "6000 0.19978353389960496\n",
      "Saving to /home/users/akshayj/texOdd/data/s097_feature_dist.npy\n",
      "2x2_conv1_1 already computed; skipping...\n",
      "--- 2x2_pool1 ---\n",
      "0 0.04535659229721839\n",
      "1000 0.00515078756819104\n",
      "2000 0.01000923784508645\n",
      "3000 0.013903778478486617\n",
      "4000 0.006935923197113281\n",
      "5000 0.006161143254485801\n",
      "6000 0.010337388122178548\n",
      "Saving to /home/users/akshayj/texOdd/data/s097_feature_dist.npy\n",
      "--- 2x2_pool2 ---\n",
      "0 0.07358733910842541\n",
      "1000 0.03458264554965851\n",
      "2000 0.0366311417782923\n",
      "3000 0.03979882544755947\n",
      "4000 0.010553066256943466\n",
      "5000 0.030563059367150036\n",
      "6000 0.0326821852399079\n",
      "Saving to /home/users/akshayj/texOdd/data/s097_feature_dist.npy\n",
      "--- 2x2_pool4 ---\n",
      "0 0.3424201756794336\n",
      "1000 0.3545140674785572\n",
      "2000 0.392402654865348\n",
      "3000 0.2502949367000931\n",
      "4000 0.10202078265464548\n",
      "5000 0.25553794273754077\n",
      "6000 0.2373730777618358\n",
      "Saving to /home/users/akshayj/texOdd/data/s097_feature_dist.npy\n",
      "3x3_conv1_1 already computed; skipping...\n",
      "--- 3x3_pool1 ---\n",
      "0 0.05766811073428996\n",
      "1000 0.007540392156818898\n",
      "2000 0.007086849154300023\n",
      "3000 0.027615831014002223\n",
      "4000 0.003867181258290775\n",
      "5000 0.028458592706679386\n",
      "6000 0.016094355716720077\n",
      "Saving to /home/users/akshayj/texOdd/data/s097_feature_dist.npy\n",
      "--- 3x3_pool2 ---\n",
      "0 0.11150782144939331\n",
      "1000 0.0342117389119484\n",
      "2000 0.03602063737560862\n",
      "3000 0.058935589652061304\n"
     ]
    }
   ],
   "source": [
    "# 2. Compute feature distance\n",
    "feature_dir = '/scratch/groups/jlg/gram_texOB'\n",
    "obs_lays = ['conv1_1', 'pool1', 'pool2', 'pool4']\n",
    "obs_rfs = ['1x1', '2x2', '3x3', '4x4', '5x5', '6x6']\n",
    "\n",
    "save_path = '{}/data/{}_feature_dist.npy'.format(wd, subj)\n",
    "if os.path.isfile(save_path):\n",
    "    print('Loading precomputed feature distances')\n",
    "    feature_distance = np.load(save_path).item()\n",
    "else:\n",
    "    feature_distance = {}\n",
    "\n",
    "for obs_rf in obs_rfs:\n",
    "    for obs_lay in obs_lays:\n",
    "        key = '{}_{}'.format(obs_rf, obs_lay)\n",
    "        if key not in feature_distance:\n",
    "            print('--- {} ---'.format(key))\n",
    "            feature_distance[key] = compute_feature_distance(obs_lay, obs_rf, bd, feature_dir)\n",
    "            np.save('{}/data/{}_feature_dist.npy'.format(wd, subj), feature_distance)\n",
    "            print('Saving to {}/data/{}_feature_dist.npy'.format(wd, subj))\n",
    "        else:\n",
    "            print('{} already computed; skipping...'.format(key))"
   ]
  },
  {
   "cell_type": "code",
   "execution_count": 3,
   "metadata": {},
   "outputs": [
    {
     "data": {
      "text/plain": [
       "['3x3_conv1_1', '2x2_conv1_1', '1x1_conv1_1']"
      ]
     },
     "execution_count": 3,
     "metadata": {},
     "output_type": "execute_result"
    }
   ],
   "source": [
    "feature_distance = np.load(wd + '/data/s097_feature_dist.npy').item()\n",
    "feature_distance.keys()"
   ]
  },
  {
   "cell_type": "markdown",
   "metadata": {},
   "source": [
    "### Step 3: Fit logistic regression to predict subject's performance"
   ]
  },
  {
   "cell_type": "code",
   "execution_count": 121,
   "metadata": {
    "scrolled": false
   },
   "outputs": [
    {
     "data": {
      "image/png": "[encoded data removed]",
      "text/plain": [
       "<Figure size 720x360 with 1 Axes>"
      ]
     },
     "metadata": {
      "needs_background": "light"
     },
     "output_type": "display_data"
    }
   ],
   "source": [
    "# 3. Fit logistic regression\n",
    "def fit_logistic_regression(bd, obs_lays, obs_rfs, feature_distance):\n",
    "    valid = np.logical_not(np.isnan(bd['correct']))\n",
    "    loss = np.zeros((len(obs_lays),len(obs_rfs)))\n",
    "    for i, obs_lay in enumerate(obs_lays):\n",
    "        for j, obs_rf in enumerate(obs_rfs):\n",
    "            feat_dist = feature_distance[obs_rf+'_'+obs_lay]\n",
    "\n",
    "            # get cross validated predictions.\n",
    "            logReg = LogisticRegression(class_weight='balanced')\n",
    "            y_pred = cross_val_predict(logReg, feat_dist[valid].reshape(-1,1), bd['correct'][valid], cv=10, method='predict_proba')\n",
    "            loss[i,j] = -np.sum(get_log_loss(bd['correct'][valid], y_pred[:,1]))\n",
    "    return loss\n",
    "\n",
    "loss = fit_logistic_regression(bd, obs_lays, obs_rfs, feature_distance)\n",
    "\n",
    "# Plot log loss\n",
    "fig, ax = plt.subplots(figsize=(10,5))\n",
    "plt.plot(np.arange(len(obs_lays)), loss, 'o')\n",
    "plt.ylabel('Cross-validated Log Loss')\n",
    "plt.xlabel('Observer Models')\n",
    "ax.set_xticks(np.arange(len(obs_lays)))\n",
    "ax.set_xticklabels(obs_lays);\n",
    "#sns.despine()"
   ]
  },
  {
   "cell_type": "code",
   "execution_count": 120,
   "metadata": {},
   "outputs": [
    {
     "name": "stderr",
     "output_type": "stream",
     "text": [
      "/Users/akshay/anaconda2/envs/myenv/lib/python2.7/site-packages/ipykernel_launcher.py:2: RuntimeWarning: divide by zero encountered in log\n",
      "  \n",
      "/Users/akshay/anaconda2/envs/myenv/lib/python2.7/site-packages/ipykernel_launcher.py:2: RuntimeWarning: invalid value encountered in multiply\n",
      "  \n"
     ]
    },
    {
     "data": {
      "text/plain": [
       "inf"
      ]
     },
     "execution_count": 120,
     "metadata": {},
     "output_type": "execute_result"
    }
   ],
   "source": [
    "-np.nansum(get_log_loss(bd['correct'][valid], model_performance[valid]))"
   ]
  },
  {
   "cell_type": "code",
   "execution_count": 117,
   "metadata": {},
   "outputs": [
    {
     "name": "stderr",
     "output_type": "stream",
     "text": [
      "/Users/akshay/anaconda2/envs/myenv/lib/python2.7/site-packages/ipykernel_launcher.py:2: RuntimeWarning: divide by zero encountered in log\n",
      "  \n",
      "/Users/akshay/anaconda2/envs/myenv/lib/python2.7/site-packages/ipykernel_launcher.py:2: RuntimeWarning: invalid value encountered in multiply\n",
      "  \n"
     ]
    },
    {
     "data": {
      "image/png": "[encoded data removed]",
      "text/plain": [
       "<Figure size 1080x720 with 2 Axes>"
      ]
     },
     "metadata": {
      "needs_background": "light"
     },
     "output_type": "display_data"
    }
   ],
   "source": [
    "convert = lambda p: np.max(np.min(p, 1−np.power(10−15)), 10^-15)\n",
    "\n",
    "valid = np.logical_not(np.isnan(bd['correct']))\n",
    "hm1, hm2 = np.zeros((len(obs_lays),)), np.zeros((len(obs_lays),))\n",
    "for i, obs_lay in enumerate(obs_lays):\n",
    "    model_performance = trial_correct[obs_lay]\n",
    "    feat_dist = feature_distance[obs_lay]\n",
    "    hm1[i] = -np.sum(get_log_loss(bd['correct'][valid], model_performance[valid]))\n",
    "    hm2[i] = -np.sum(get_log_loss(bd['correct'][valid], feat_dist[valid]))\n",
    "\n",
    "fig = plt.figure(figsize=(15,10))\n",
    "plt.subplot(1,2,1);\n",
    "plt.bar(np.arange(len(obs_lays)), hm1);\n",
    "\n",
    "plt.subplot(1,2,2);\n",
    "plt.bar(np.arange(len(obs_lays)), hm2);"
   ]
  }
 ],
 "metadata": {
  "kernelspec": {
   "display_name": "Python 2",
   "language": "python",
   "name": "python2"
  },
  "language_info": {
   "codemirror_mode": {
    "name": "ipython",
    "version": 2
   },
   "file_extension": ".py",
   "mimetype": "text/x-python",
   "name": "python",
   "nbconvert_exporter": "python",
   "pygments_lexer": "ipython2",
   "version": "2.7.13"
  }
 },
 "nbformat": 4,
 "nbformat_minor": 2
}
